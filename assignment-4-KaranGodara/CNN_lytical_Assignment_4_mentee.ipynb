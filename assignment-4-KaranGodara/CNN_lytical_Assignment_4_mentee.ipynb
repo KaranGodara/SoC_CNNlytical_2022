{
  "nbformat": 4,
  "nbformat_minor": 0,
  "metadata": {
    "colab": {
      "name": "CNN_lytical_Assignment_4_mentee.ipynb",
      "provenance": [],
      "collapsed_sections": []
    },
    "kernelspec": {
      "name": "python3",
      "display_name": "Python 3"
    },
    "language_info": {
      "name": "python"
    },
    "accelerator": "GPU",
    "gpuClass": "standard"
  },
  "cells": [
    {
      "cell_type": "markdown",
      "source": [
        "**Import libraries here**\n",
        "\n",
        "PyTorch, NumPy, Matplotlib, ... Even when equipped with PyTorch, NumPy and Matplotlib make your work easier for visualization etc.\n",
        "\n",
        "Note the following method to initialize the seed for reproducibility of results, both for NumPy & PyTorch (CPU/CUDA)."
      ],
      "metadata": {
        "id": "qtxFmV58gd0b"
      }
    },
    {
      "cell_type": "code",
      "source": [
        "import numpy as np\n",
        "import os\n",
        "import torch\n",
        "import torch.nn as nn\n",
        "import pickle\n",
        "import matplotlib.pyplot as plt\n",
        "\n",
        "from sklearn.model_selection import train_test_split\n",
        "\n",
        "import torchvision.transforms.functional as TF\n",
        "\n",
        "from torch.utils.data import Dataset\n",
        "\n",
        "from torch.utils.data import DataLoader\n",
        "import torchvision\n",
        "\n",
        "from tqdm import tqdm\n",
        "import torch.optim as optim\n",
        "\n",
        "import torchvision.transforms as transforms"
      ],
      "metadata": {
        "id": "VnIdXmSDnPpr"
      },
      "execution_count": 19,
      "outputs": []
    },
    {
      "cell_type": "code",
      "execution_count": 20,
      "metadata": {
        "id": "tRKkjN1ffoq9"
      },
      "outputs": [],
      "source": [
        "def set_seed(seed=42):\n",
        "    '''Sets the seed of the entire notebook so results are the same every time we run.\n",
        "    This is for REPRODUCIBILITY.'''\n",
        "    np.random.seed(seed)\n",
        "    torch.manual_seed(seed)\n",
        "    torch.cuda.manual_seed(seed)\n",
        "    # When running on the CuDNN backend, two further options must be set\n",
        "    torch.backends.cudnn.deterministic = True\n",
        "    torch.backends.cudnn.benchmark = False\n",
        "    # Set a fixed value for the hash seed\n",
        "    os.environ['PYTHONHASHSEED'] = str(seed)\n",
        "    \n",
        "set_seed(42)"
      ]
    },
    {
      "cell_type": "markdown",
      "source": [
        "**Load Dataset**\n",
        "\n",
        "Use the pickle file shared for this assignment here."
      ],
      "metadata": {
        "id": "JEvnpPKwgsF8"
      }
    },
    {
      "cell_type": "code",
      "source": [
        "# load the data set\n",
        "from google.colab import drive\n",
        "\n",
        "#drive already mounted\n",
        "drive.mount('/content/drive') \n",
        "\n",
        "DATA_PATH = \"/content/drive/MyDrive/cs231n/assignments/assignment4/train_carvana.pkl\"\n",
        "\n",
        "\n",
        "with open(DATA_PATH, 'rb') as f:\n",
        "    data = pickle.load(f)\n",
        "\n",
        "X = data['X']\n",
        "y = data['y']\n",
        "\n",
        "# Split into X_train, y_train, X_val, y_val\n",
        "# you can use stratified splitting from sklearn library"
      ],
      "metadata": {
        "colab": {
          "base_uri": "https://localhost:8080/"
        },
        "id": "fi2DllzlgsX7",
        "outputId": "3670b58b-ce0a-44e0-910c-932fb03e63bc"
      },
      "execution_count": 21,
      "outputs": [
        {
          "output_type": "stream",
          "name": "stdout",
          "text": [
            "Drive already mounted at /content/drive; to attempt to forcibly remount, call drive.mount(\"/content/drive\", force_remount=True).\n"
          ]
        }
      ]
    },
    {
      "cell_type": "code",
      "source": [
        "# y = N[np.random.randint(0,80),:,:,:]\n",
        "# print(y.shape)\n",
        "# print(N.shape)\n",
        "print(X.shape)\n",
        "print(y.shape)\n",
        "print(type(y))"
      ],
      "metadata": {
        "colab": {
          "base_uri": "https://localhost:8080/"
        },
        "id": "k9AqpHaTAPna",
        "outputId": "4b7f3016-25b0-4c49-b020-ba663a876056"
      },
      "execution_count": 22,
      "outputs": [
        {
          "output_type": "stream",
          "name": "stdout",
          "text": [
            "(80, 1280, 1918, 3)\n",
            "(80, 1280, 1918)\n",
            "<class 'numpy.ndarray'>\n"
          ]
        }
      ]
    },
    {
      "cell_type": "markdown",
      "source": [
        "In the following cell, display one data-point in each line, with three images - the original image, the segmentation mask and the two of them superposed over each other."
      ],
      "metadata": {
        "id": "vsF-PQ1WhK4y"
      }
    },
    {
      "cell_type": "code",
      "source": [
        "# display 4 datapoints as described above\n",
        "l = []\n",
        "for i in range(0,4):\n",
        "  plt.subplot(4,1,i+1)\n",
        "  e = np.random.randint(0,80)\n",
        "  l.append(e)\n",
        "  i = X[e,:,:,:]\n",
        "  # m = y[]\n",
        "  drawing = plt.imshow(i)\n",
        "  drawing.axes.get_xaxis().set_visible(False)\n",
        "  drawing.axes.get_yaxis().set_visible(False)\n",
        "plt.show()\n",
        "\n",
        "for i in range(0,4):\n",
        "  plt.subplot(4,1,i+1)\n",
        "  i = y[l[i],:,:]\n",
        "  # m = y[]\n",
        "  drawing = plt.imshow(i, cmap=\"gray\")\n",
        "  drawing.axes.get_xaxis().set_visible(False)\n",
        "  drawing.axes.get_yaxis().set_visible(False)\n",
        "plt.show()\n",
        "\n",
        "for i in range(0,4):\n",
        "  plt.subplot(4,1,i+1)\n",
        "  arrays = [y[l[i],:,:], y[l[i],:,:], y[l[i],:,:]]\n",
        "  newt = np.stack(arrays, axis=2)\n",
        "  i = newt * X[l[i],:,:,:]\n",
        "  # m = y[]\n",
        "  drawing = plt.imshow(i)\n",
        "  drawing.axes.get_xaxis().set_visible(False)\n",
        "  drawing.axes.get_yaxis().set_visible(False)\n",
        "plt.show()"
      ],
      "metadata": {
        "colab": {
          "base_uri": "https://localhost:8080/",
          "height": 722
        },
        "id": "2AaO9tMZ_Hji",
        "outputId": "51435cfa-3976-40b9-fea4-1cc230d1ad47"
      },
      "execution_count": 23,
      "outputs": [
        {
          "output_type": "display_data",
          "data": {
            "text/plain": [
              "<Figure size 432x288 with 4 Axes>"
            ],
            "image/png": "[encoded data removed]"
          },
          "metadata": {
            "needs_background": "light"
          }
        },
        {
          "output_type": "display_data",
          "data": {
            "text/plain": [
              "<Figure size 432x288 with 4 Axes>"
            ],
            "image/png": "[encoded data removed]"
          },
          "metadata": {
            "needs_background": "light"
          }
        },
        {
          "output_type": "display_data",
          "data": {
            "text/plain": [
              "<Figure size 432x288 with 4 Axes>"
            ],
            "image/png": "[encoded data removed]"
          },
          "metadata": {
            "needs_background": "light"
          }
        }
      ]
    },
    {
      "cell_type": "code",
      "source": [
        "X_train = X[:50,:,:,:]\n",
        "y_train = y[:50,:,:]\n",
        "X_test = X[50:,:,:,:]\n",
        "y_test = y[50:,:,:]"
      ],
      "metadata": {
        "id": "PBOfueKyL7MH"
      },
      "execution_count": 24,
      "outputs": []
    },
    {
      "cell_type": "code",
      "source": [
        "print(type(y_train))"
      ],
      "metadata": {
        "colab": {
          "base_uri": "https://localhost:8080/"
        },
        "id": "RQgKSWTulj4O",
        "outputId": "67cebde9-3079-4de4-9b95-49ae22a4ba9f"
      },
      "execution_count": 25,
      "outputs": [
        {
          "output_type": "stream",
          "name": "stdout",
          "text": [
            "<class 'numpy.ndarray'>\n"
          ]
        }
      ]
    },
    {
      "cell_type": "markdown",
      "source": [
        "**Creating a Dataset Class**\n",
        "\n",
        "Create a Dataset class like in the previous assignment. However, this time you should perform augmentation.\n",
        "\n",
        "Note - While initializing the dataset class object, make sure you only pass the numpy arrays for images and masks. So the __init__ function should look like\n",
        "\n",
        "    def __init__(self, X, y):"
      ],
      "metadata": {
        "id": "x-kczLfAhReo"
      }
    },
    {
      "cell_type": "code",
      "source": [
        "# define your dataset class\n",
        "class CarvanaDataset(Dataset):\n",
        "    def __init__(self, X, y, transform=None):\n",
        "        X = torch.from_numpy(X)\n",
        "        X = torch.permute(X, (0, 3, 1, 2))\n",
        "\n",
        "        y = torch.from_numpy(y)\n",
        "\n",
        "        self.X = X\n",
        "        self.y = y\n",
        "        self.transform = transform\n",
        "\n",
        "        # self.images = os.listdir(image_dir)\n",
        "\n",
        "    def __len__(self):\n",
        "        return len(self.X[0])\n",
        "\n",
        "    def __getitem__(self, index):\n",
        "\n",
        "        image = self.X[index,:,:,:]\n",
        "        mask = self.y[index,:,:]\n",
        "        # assert type(image) != <class 'numpy.ndarray'>\n",
        "\n",
        "        if self.transform is not None:\n",
        "            image = self.transform(image)\n",
        "            mask = self.transform(mask)\n",
        "\n",
        "        return image, mask\n"
      ],
      "metadata": {
        "id": "5g7Hjh6FhRng"
      },
      "execution_count": 26,
      "outputs": []
    },
    {
      "cell_type": "markdown",
      "source": [
        "**nn.Module for your model**\n",
        "\n",
        "Take inspiration from this video - https://www.youtube.com/watch?v=u1loyDCoGbE. Don't just blindly copy the code, you might not need a model as big as the original one."
      ],
      "metadata": {
        "id": "twYGJNDWhcmG"
      }
    },
    {
      "cell_type": "code",
      "source": [
        "# define a child class of nn.Module for your model\n",
        "# specify the architecture here itself\n",
        "# if necessary, make submodules in different cells for structured code\n",
        "\n",
        "class DoubleConv(nn.Module):\n",
        "    def __init__(self, in_channels, out_channels):\n",
        "        super(DoubleConv, self).__init__()\n",
        "        self.conv = nn.Sequential(\n",
        "            nn.Conv2d(in_channels, out_channels, 3, 1, 1, bias=False),\n",
        "            nn.BatchNorm2d(out_channels),\n",
        "            nn.ReLU(inplace=True),\n",
        "\n",
        "            nn.Conv2d(out_channels, out_channels, 3, 1, 1, bias=False),\n",
        "            nn.BatchNorm2d(out_channels),\n",
        "            nn.ReLU(inplace=True)\n",
        "        )\n",
        "\n",
        "    def forward(self, x):\n",
        "        return self.conv(x)\n",
        "\n",
        "\n",
        "class UNET(nn.Module):\n",
        "    def __init__(self, in_channels=3, out_channels=1, features=[64, 128, 256, 512]):\n",
        "        super(UNET, self).__init__()\n",
        "        self.ups = nn.ModuleList()\n",
        "        self.downs = nn.ModuleList()\n",
        "        self.pool = nn.MaxPool2d(kernel_size=2, stride=2)\n",
        "\n",
        "        # Down part of UNET\n",
        "        for feature in features:\n",
        "            self.downs.append(DoubleConv(in_channels, feature))\n",
        "            in_channels = feature\n",
        "\n",
        "        # Up part of UNET\n",
        "        for feature in reversed(features):\n",
        "            self.ups.append(nn.ConvTranspose2d(\n",
        "                feature * 2, feature, kernel_size=2, stride=2))\n",
        "            self.ups.append(DoubleConv(feature * 2, feature))\n",
        "\n",
        "        self.bottleneck = DoubleConv(features[-1], features[-1] * 2)\n",
        "        self.final_conv = nn.Conv2d(features[0], out_channels, kernel_size=1)\n",
        "\n",
        "    def forward(self, x):\n",
        "        skip_connections = []\n",
        "\n",
        "        for down in self.downs:\n",
        "            x = down(x)\n",
        "            skip_connections.append(x)\n",
        "            x = self.pool(x)\n",
        "\n",
        "        x = self.bottleneck(x)\n",
        "        skip_connections = skip_connections[::-1]\n",
        "\n",
        "        for idx in range(0, len(self.ups), 2):\n",
        "            x = self.ups[idx](x)\n",
        "            skip_connection = skip_connections[idx // 2]\n",
        "\n",
        "            if x.shape != skip_connection.shape:\n",
        "                x = TF.resize(x, size=skip_connection.shape[2:])\n",
        "\n",
        "            concat_skip = torch.cat((skip_connection, x), dim=1)\n",
        "            x = self.ups[idx + 1](concat_skip)\n",
        "\n",
        "        return self.final_conv(x)"
      ],
      "metadata": {
        "id": "qW155pcZhcwh"
      },
      "execution_count": 27,
      "outputs": []
    },
    {
      "cell_type": "markdown",
      "source": [
        "**Training loop**\n",
        "\n",
        "As in the previous assignments, you will write a training loop here. Learning from past experience, do maintain a validation set and monitor loss/accuracy on that to save the best model (instead of having to interrupt execution)."
      ],
      "metadata": {
        "id": "1lvqu_7UmGlq"
      }
    },
    {
      "cell_type": "code",
      "source": [
        "def get_loaders(X_train, y_train, X_test, y_test, batch_size, train_transform, val_transform, num_workers=4):\n",
        "    train_ds = CarvanaDataset(\n",
        "        X_train, y_train, transform=train_transform)\n",
        "    \n",
        "    train_loader = DataLoader(train_ds, batch_size = batch_size, num_workers = num_workers, shuffle = True)\n",
        "\n",
        "    val_ds = CarvanaDataset(\n",
        "        X_test, y_test, transform=val_transform)\n",
        "\n",
        "    val_loader = DataLoader(val_ds, batch_size = batch_size, num_workers = num_workers, shuffle = False)\n",
        "    return train_loader, val_loader\n",
        "\n",
        "def check_accuracy(loader, model, device = \"cuda\"):\n",
        "    num_correct = 0\n",
        "    num_pixels = 0\n",
        "    model.eval()\n",
        "\n",
        "    with torch.no_grad():\n",
        "        for x, y in loader:\n",
        "            x = x.to(device)\n",
        "            y = y.to(device).unsqueeze(1)\n",
        "            preds = torch.sigmoid(model(x))\n",
        "            preds = (preds > 0.5).float()\n",
        "            num_correct += (preds == y).sum()\n",
        "            num_pixels +=  torch.numel(preds)\n",
        "\n",
        "    print(\n",
        "        f\"Got {num_correct}/{num_pixels} with accuracy {num_correct/num_pixels*100:.2f} \"\n",
        "    )\n",
        "    model.train()"
      ],
      "metadata": {
        "id": "P1_McYoWTMYj"
      },
      "execution_count": 28,
      "outputs": []
    },
    {
      "cell_type": "code",
      "source": [
        "# HYPERPARAMETERS\n",
        "LEARNING_RATE = 1e-4\n",
        "DEVICE = \"cuda\" if torch.cuda.is_available() else \"cpu\"\n",
        "BATCH_SIZE = 1  # 32\n",
        "NUM_EPOCHS = 3  # 100\n",
        "NUM_WORKERS = 2\n",
        "IMAGE_HEIGHT = 160  # 1280 originally\n",
        "IMAGE_WIDTH = 240  # 1918 originally\n",
        "# PIN_MEMORY = True\n",
        "LOAD_MODEL = False\n",
        "\n",
        "# transforms.Resize([IMAGE_HEIGHT, IMAGE_WIDTH]),\n",
        "\n",
        "# train_transform = transforms.Compose([\n",
        "#                                       transforms.RandomRotation(35),\n",
        "#                                       transforms.RandomHorizontalFlip(p=0.5),\n",
        "#                                       transforms.RandomVerticalFlip(p=0.5),\n",
        "#                                       transforms.Normalize(\n",
        "#                                           mean=[0.0, 0.0, 0.0], \n",
        "#                                           std=[1.0, 1.0, 1.0], \n",
        "#                                           inplace=False)\n",
        "\n",
        "# ])\n",
        "# val_transform = transforms.Compose([\n",
        "#                                       transforms.Normalize(\n",
        "#                                           mean=[0.0, 0.0, 0.0], \n",
        "#                                           std=[1.0, 1.0, 1.0], \n",
        "#                                           inplace=False)\n",
        "\n",
        "# ])\n",
        "\n",
        "\n",
        "#Facing some compatibility issues here on tranforms, hence have commented them out for now\n",
        "#Batch size is done at \"1\", so basically doing stochastic gradient descent as batch gradient descent\n",
        "#was taking way too much memory\n",
        "\n",
        "train_transform = None\n",
        "val_transform = None\n",
        "\n",
        "model = UNET(in_channels=3,  out_channels=1).to(DEVICE)\n",
        "loss_fn = nn.BCEWithLogitsLoss()  # Binary Cross Entropy\n",
        "optimizer = optim.Adam(model.parameters(), lr=LEARNING_RATE)\n",
        "\n",
        "train_loader, val_loader = get_loaders(\n",
        "        X_train,\n",
        "        y_train,\n",
        "        X_test,\n",
        "        y_test,\n",
        "        BATCH_SIZE,\n",
        "        train_transform,\n",
        "        val_transform,\n",
        "        NUM_WORKERS\n",
        "    )\n",
        "\n",
        "scaler = torch.cuda.amp.GradScaler()"
      ],
      "metadata": {
        "id": "KTsA2IH8T997"
      },
      "execution_count": 29,
      "outputs": []
    },
    {
      "cell_type": "code",
      "source": [
        "# def train_fn(model, optimizer, criterion, train_loader, val_loader, display_step=None):\n",
        "#     pass\n",
        "\n",
        "def train_fn(loader, model, optimizer, loss_fn, scaler):\n",
        "    loop = tqdm(loader)\n",
        "\n",
        "    for batch_idx, (data, targets) in enumerate(loop):\n",
        "        data = data.to(device=DEVICE)\n",
        "        targets = targets.float().unsqueeze(1).to(device=DEVICE)\n",
        "\n",
        "        # forward\n",
        "        with torch.cuda.amp.autocast():\n",
        "            predictions = model(data)\n",
        "            loss = loss_fn(predictions, targets)\n",
        "\n",
        "        # backward\n",
        "        optimizer.zero_grad()\n",
        "        scaler.scale(loss).backward()\n",
        "        scaler.step(optimizer)\n",
        "        scaler.update()\n",
        "\n",
        "        # update tqdm loop\n",
        "        loop.set_postfix(loss=loss.item())\n"
      ],
      "metadata": {
        "id": "WTdJzV8mmGvC"
      },
      "execution_count": 30,
      "outputs": []
    },
    {
      "cell_type": "markdown",
      "source": [
        "**Initialize weights**\n",
        "\n",
        "Write a small function to initialize weights for your model. You don't need to do it individually for each layer, there are ways to do it in a simple for loop."
      ],
      "metadata": {
        "id": "0gNbWEiamTiC"
      }
    },
    {
      "cell_type": "code",
      "source": [
        "# def init_weights(...):\n",
        "#     pass"
      ],
      "metadata": {
        "id": "QKKyNGs6mTqX"
      },
      "execution_count": 31,
      "outputs": []
    },
    {
      "cell_type": "markdown",
      "source": [
        "**Prediction & Accuracy**\n",
        "\n",
        "Prediction function should predict outputs using your trained model for a given NumPy array X_test and the output should be another NumPy array, the mask you predict.\n",
        "\n",
        "The accuracy function would be the number of pixels you get a correct mask for."
      ],
      "metadata": {
        "id": "bEWIt-9Qmdrz"
      }
    },
    {
      "cell_type": "code",
      "source": [
        "# def predict(model, X_test):\n",
        "#     pass"
      ],
      "metadata": {
        "id": "RH2rI2wlmdz2"
      },
      "execution_count": 32,
      "outputs": []
    },
    {
      "cell_type": "code",
      "source": [
        "# def accuracy(pred, labels):\n",
        "#     pass\n",
        "\n",
        "def check_accuracy(loader, model, device = \"cuda\"):\n",
        "    num_correct = 0\n",
        "    num_pixels = 0\n",
        "    model.eval()\n",
        "\n",
        "    with torch.no_grad():\n",
        "        for x, y in loader:\n",
        "            x = x.to(device)\n",
        "            y = y.to(device).unsqueeze(1)\n",
        "            preds = torch.sigmoid(model(x))\n",
        "            preds = (preds > 0.5).float()\n",
        "            num_correct += (preds == y).sum()\n",
        "            num_pixels +=  torch.numel(preds)\n",
        "\n",
        "    print(\n",
        "        f\"Got {num_correct}/{num_pixels} with accuracy {num_correct/num_pixels*100:.2f} \"\n",
        "    )\n",
        "    model.train()"
      ],
      "metadata": {
        "id": "kdajnLMymnSG"
      },
      "execution_count": 33,
      "outputs": []
    },
    {
      "cell_type": "markdown",
      "source": [
        "**Actually training your model**\n",
        "\n",
        "Create a model, initialize it. Define optimizer for the model as well as loss criterion (you can actually set the seed here again, just in case you did some rand calls above for testing your functions).\n",
        "\n",
        "Define an instance of the dataset class, wrap it in a dataloader.\n",
        "\n",
        "Call the train function and train your model!"
      ],
      "metadata": {
        "id": "OnoAuRkQmqH3"
      }
    },
    {
      "cell_type": "code",
      "source": [
        "for epoch in range(NUM_EPOCHS):\n",
        "    train_fn(train_loader, model, optimizer, loss_fn, scaler)\n",
        "    check_accuracy(val_loader, model, device=DEVICE )"
      ],
      "metadata": {
        "colab": {
          "base_uri": "https://localhost:8080/"
        },
        "id": "Bg4hLXJImqPa",
        "outputId": "a1630aaa-05b2-4521-f3f7-64bc9330a0b0"
      },
      "execution_count": 34,
      "outputs": [
        {
          "output_type": "stream",
          "name": "stderr",
          "text": [
            "100%|██████████| 3/3 [00:04<00:00,  1.42s/it, loss=0.541]\n"
          ]
        },
        {
          "output_type": "stream",
          "name": "stdout",
          "text": [
            "Got 5497168/7365120 with accuracy 74.64 \n"
          ]
        },
        {
          "output_type": "stream",
          "name": "stderr",
          "text": [
            "100%|██████████| 3/3 [00:03<00:00,  1.19s/it, loss=0.48]\n"
          ]
        },
        {
          "output_type": "stream",
          "name": "stdout",
          "text": [
            "Got 5497168/7365120 with accuracy 74.64 \n"
          ]
        },
        {
          "output_type": "stream",
          "name": "stderr",
          "text": [
            "100%|██████████| 3/3 [00:03<00:00,  1.19s/it, loss=0.403]\n"
          ]
        },
        {
          "output_type": "stream",
          "name": "stdout",
          "text": [
            "Got 5497168/7365120 with accuracy 74.64 \n"
          ]
        }
      ]
    },
    {
      "cell_type": "markdown",
      "source": [
        "This task is not like the usual classification task, you also need to check how the model is doing visually to appreciate the level of learning. Visualize 10 outputs below (as you did in the visualization cell near the top of the notebook)."
      ],
      "metadata": {
        "id": "_k6i2NGvm3sn"
      }
    },
    {
      "cell_type": "code",
      "source": [
        ""
      ],
      "metadata": {
        "id": "WmTAQu-Om30r"
      },
      "execution_count": 34,
      "outputs": []
    },
    {
      "cell_type": "markdown",
      "source": [
        "**Submission**\n",
        "\n",
        "To submit your solution, you will need to make a file with name model.py containing imports necessary to write the model class and the model class itself. It shouldn't do anything else when run. Also create a file dataset.py with the dataset class and all necessary imports. Other than this, save the trained model in a file named ass_4.pt. When you are done with the assignment, commit the updated notebook, the model.py, dataset.py class files and the ass_4.pt model-weights file to the repository.\n",
        "\n",
        "Note that if you use submodules, all of them should go into the model.py file."
      ],
      "metadata": {
        "id": "kbubha4um9MK"
      }
    },
    {
      "cell_type": "code",
      "source": [
        "# from google.colab import files\n",
        "# torch.save(final_model, 'ass_4.pt')\n",
        "# files.download('ass_4.pt') # download the file from the Colab session for submission"
      ],
      "metadata": {
        "id": "8x236KYem9XH"
      },
      "execution_count": 35,
      "outputs": []
    },
    {
      "cell_type": "markdown",
      "source": [
        "Check if it got saved right!"
      ],
      "metadata": {
        "id": "EQvnivAxnHKc"
      }
    },
    {
      "cell_type": "code",
      "source": [
        "# load the model, use predict function"
      ],
      "metadata": {
        "id": "Fu4j2M70nHSh"
      },
      "execution_count": 36,
      "outputs": []
    }
  ]
}