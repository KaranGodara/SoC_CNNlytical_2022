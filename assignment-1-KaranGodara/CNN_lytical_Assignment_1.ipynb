{
  "nbformat": 4,
  "nbformat_minor": 0,
  "metadata": {
    "colab": {
      "name": "CNN.ipynb",
      "provenance": [],
      "collapsed_sections": []
    },
    "kernelspec": {
      "name": "python3",
      "display_name": "Python 3"
    },
    "language_info": {
      "name": "python"
    }
  },
  "cells": [
    {
      "cell_type": "markdown",
      "source": [
        "Loading the dataset"
      ],
      "metadata": {
        "id": "d87Xk333GefH"
      }
    },
    {
      "cell_type": "code",
      "source": [
        "import numpy as np\n",
        "import pickle\n",
        "from sklearn.model_selection import train_test_split\n",
        "import random\n",
        "from matplotlib import pyplot as plt\n",
        "from sklearn import preprocessing\n",
        "%matplotlib inline"
      ],
      "metadata": {
        "id": "pGn4GDo-JJFV"
      },
      "execution_count": 29,
      "outputs": []
    },
    {
      "cell_type": "code",
      "execution_count": 30,
      "metadata": {
        "id": "aMcMwMQUxV-G",
        "colab": {
          "base_uri": "https://localhost:8080/"
        },
        "outputId": "ba1f3a5d-5212-4116-8cf3-f8617a981d76"
      },
      "outputs": [
        {
          "output_type": "stream",
          "name": "stdout",
          "text": [
            "Drive already mounted at /content/drive; to attempt to forcibly remount, call drive.mount(\"/content/drive\", force_remount=True).\n"
          ]
        }
      ],
      "source": [
        "from google.colab import drive\n",
        "\n",
        "#drive already mounted\n",
        "drive.mount('/content/drive') \n",
        "\n",
        "DATA_PATH = \"/content/drive/MyDrive/cs231n/assignments/assignment1/train_data.pkl\"\n",
        "\n",
        "\n",
        "with open(DATA_PATH, 'rb') as f:\n",
        "    data = pickle.load(f)\n",
        "X = data['X']\n",
        "y = data['y']\n",
        "\n",
        "# normalise\n",
        "#X_norm = X - np.min(X, axis = 0, keepdims = True)\n",
        "#X_norm = X_norm / (np.max(X_norm, axis = 0, keepdims = True) + 1e-6)\n",
        "\n",
        "#new version\n",
        "X_norm = preprocessing.normalize(X)\n",
        "\n",
        "#split\n",
        "X_train, X_test, y_train, y_test = train_test_split(X_norm, y, stratify = y, test_size = 0.9) \n"
      ]
    },
    {
      "cell_type": "code",
      "source": [
        "#displaying grid\n",
        "for i in range(16):\n",
        "  idx = random.randrange(0,60000,1)\n",
        "  plt.subplot(4,4,i+1)\n",
        "  image = np.reshape(X[idx], (28,28))\n",
        "  drawing = plt.imshow(image, cmap = \"gray\")\n",
        "  plt.title(y[idx][0])\n",
        "  drawing.axes.get_xaxis().set_visible(False)\n",
        "  drawing.axes.get_yaxis().set_visible(False)\n",
        "plt.subplots_adjust(left = 0.1, bottom = 0.1, right = 0.5, top = 0.9, wspace = 0.1, hspace = 0.4)\n",
        "plt.show()"
      ],
      "metadata": {
        "colab": {
          "base_uri": "https://localhost:8080/",
          "height": 277
        },
        "id": "JZl3TawNgk0w",
        "outputId": "2e0d62e0-f568-476b-9a71-f8db8fcd0b4b"
      },
      "execution_count": 31,
      "outputs": [
        {
          "output_type": "display_data",
          "data": {
            "text/plain": [
              "<Figure size 432x288 with 16 Axes>"
            ],
            "image/png": "[encoded data removed]"
          },
          "metadata": {
            "needs_background": "light"
          }
        }
      ]
    },
    {
      "cell_type": "markdown",
      "source": [
        "Activation functions"
      ],
      "metadata": {
        "id": "JUi6P1wN_YMW"
      }
    },
    {
      "cell_type": "code",
      "source": [
        "def relu(z):\n",
        "    \"\"\"\n",
        "    Arguments:\n",
        "    z -- A scalar or numpy array.\n",
        "    Return:\n",
        "    relu func applied to each element of z\n",
        "    \"\"\"\n",
        "    return np.maximum(0,z)\n",
        "\n",
        "def softmax(z):\n",
        "    \"\"\"\n",
        "    returns computed probabilitites for each element in batch separately\n",
        "    input: (N, 10)\n",
        "    output: (N, 10)\n",
        "    \"\"\"\n",
        "    # here additional constant is mutiplied in both numerator and denominator of\n",
        "    # softmax to prevent exponents going too high\n",
        "    # Here constant is max yj\n",
        "\n",
        "    #here data can never turn y to have zero, so dividing by it causes no issue\n",
        "\n",
        "    temp = np.max(z, axis = 1, keepdims = True)\n",
        "    z = z - temp\n",
        "\n",
        "    z = np.exp(z)\n",
        "    y = z.sum(axis = 1, keepdims = True)\n",
        "    \n",
        "    return z / y"
      ],
      "metadata": {
        "id": "I0vw-WRfGZgk"
      },
      "execution_count": 32,
      "outputs": []
    },
    {
      "cell_type": "markdown",
      "source": [
        "Initializing the layer weights"
      ],
      "metadata": {
        "id": "3OMIwjXob_0w"
      }
    },
    {
      "cell_type": "code",
      "source": [
        "def init_params(layers_dims): #array containing size of each layer\n",
        "    \"\"\"\n",
        "    ideally it should take the size of all the layers and \n",
        "    should return the initialized weights.\n",
        "    \"\"\"\n",
        "    parameters = {}\n",
        "    L = len(layers_dims)            # number of layers in the network\n",
        "    \n",
        "    for l in range(1, L):\n",
        "        # He Initialization is used for W's while all bias vectors are set to 0 initially\n",
        "\n",
        "        #no problem in dividing as it is never zero\n",
        "        parameters['W' + str(l)] = np.random.randn(layers_dims[l - 1], layers_dims[l]) * np.sqrt(2/layers_dims[l-1])\n",
        "        parameters['b' + str(l)] = np.zeros((layers_dims[l], 1))\n",
        "        \n",
        "    return parameters"
      ],
      "metadata": {
        "id": "yPSwRqrqIoWj"
      },
      "execution_count": 33,
      "outputs": []
    },
    {
      "cell_type": "markdown",
      "source": [
        "Forward Propagation"
      ],
      "metadata": {
        "id": "ALVGheJqb6RS"
      }
    },
    {
      "cell_type": "code",
      "source": [
        "def forward_propg(X, parameters):\n",
        "    \"\"\"\n",
        "    X: input data\n",
        "    returns: logits, output of each layer z1,z2,a1,a2\n",
        "    \"\"\"\n",
        "    # retrieve parameters\n",
        "    W1 = parameters[\"W1\"]\n",
        "    b1 = parameters[\"b1\"]\n",
        "    W2 = parameters[\"W2\"]\n",
        "    b2 = parameters[\"b2\"]\n",
        "    \n",
        "\n",
        "    # LINEAR -> RELU -> LINEAR \n",
        "    z1 = np.dot(X, W1) + b1.T\n",
        "    a1 = relu(z1)\n",
        "    z2 = np.dot(a1, W2) + b2.T\n",
        "    a2 = softmax(z2)\n",
        "\n",
        "    cache = (z1, a1, W1, b1, z2, a2, W2, b2)\n",
        "    \n",
        "    return a2, cache\n",
        "    "
      ],
      "metadata": {
        "id": "FK-cTbvcYTHr"
      },
      "execution_count": 34,
      "outputs": []
    },
    {
      "cell_type": "markdown",
      "source": [
        "Backward Propagation"
      ],
      "metadata": {
        "id": "5gSjODKJjmfB"
      }
    },
    {
      "cell_type": "code",
      "source": [
        "def backward_propg(weights, X, y, cache, lr):\n",
        "    \"\"\"\n",
        "    should update the weights and return updated weights\n",
        "    \"\"\"\n",
        "    #learning rate is stored here\n",
        "    learning_rate = lr\n",
        "    m = X.shape[0]\n",
        "    (z1, a1, W1, b1, z2, a2, W2, b2) = cache\n",
        "\n",
        "    da2 = np.zeros(a2.shape)\n",
        "    for i in range(m):\n",
        "      if a2[i][y[i][0]] != 0:\n",
        "        da2[i][y[i][0]] = -1./(a2[i][y[i][0]] * m)\n",
        "    \n",
        "    #My method original\n",
        "    #dz2 = (a2)*(1-a2)*da2\n",
        "\n",
        "    #Soham's Method\n",
        "    #mask = np.zeros((y.size, 10)) # creates one-hot encoded mask (2D)\n",
        "    #mask[np.arange(y.size),y] = 1\n",
        "    #mask = mask.T  # mask created\n",
        "    #dz2 = a2 - mask  \n",
        "\n",
        "    #My method 2\n",
        "    temp = -a2\n",
        "    for i in range(m):\n",
        "      temp[i][y[i][0]] = temp[i][y[i][0]] + 1\n",
        "    temp2 = np.zeros((m, 1))\n",
        "\n",
        "    for i in range (m) :\n",
        "      temp2[i][0] = a2[i][y[i][0]]\n",
        "    dz2t = temp * temp2\n",
        "    dmult = np.zeros((m,1))\n",
        "\n",
        "    for i in range(m) :\n",
        "      dmult[i][0] = da2[i][y[i][0]] \n",
        "    dz2 = dz2t * dmult\n",
        "\n",
        "    #it did gradient killing, faulty logic here \n",
        "    #dz2 = np.multiply(a2, (np.ones(a2.shape) - np.sum(a2, axis = 1, keepdims = True)))\n",
        "\n",
        "    dW2 = np.dot(a1.T, dz2)\n",
        "    db2T = np.sum(dz2, axis=0, keepdims = True)\n",
        "    db2 = db2T.T\n",
        "    da1 = np.dot(dz2, W2.T)\n",
        "\n",
        "    dz1 = np.multiply(da1, np.int64(a1 > 0)) #grad for ReLU pass\n",
        "    dW1 = np.dot(X.T, dz1)\n",
        "    db1T = np.sum(dz1, axis=0, keepdims = True)\n",
        "    db1 = db1T.T\n",
        "    \n",
        "    grads = {\"da2\":da2, \"dz2\": dz2, \"dW2\": dW2, \"db2\": db2, \"da1\": da1,\n",
        "                 \"dz1\": dz1, \"dW1\": dW1, \"db1\": db1}\n",
        "    \n",
        "    L = len(weights) // 2 # number of layers in the neural networks\n",
        "\n",
        "    # Update rule for each parameter, Vanilla Method\n",
        "    for k in range(L):\n",
        "        weights[\"W\" + str(k+1)] = weights[\"W\" + str(k+1)] - learning_rate * grads[\"dW\" + str(k+1)]\n",
        "        weights[\"b\" + str(k+1)] = weights[\"b\" + str(k+1)] - learning_rate * grads[\"db\" + str(k+1)]\n",
        "        \n",
        "    return weights"
      ],
      "metadata": {
        "id": "XLi6LvrCjjLD"
      },
      "execution_count": 35,
      "outputs": []
    },
    {
      "cell_type": "code",
      "source": [
        "def cost_func(y, a2):\n",
        "    \"\"\"\n",
        "    calculate loss to check whether it is decreasing at each epoch or not\n",
        "    one can return this in backward propagation as well\n",
        "    \"\"\"\n",
        "    #for loss will use softmax defined earlier\n",
        "    #Here also m can never be zero hence division won't cause zero error\n",
        "    intmed = - np.log(a2)\n",
        "    loss = 0\n",
        "    m = y.shape[0]\n",
        "    for i in range (m):\n",
        "      loss = loss + intmed[i][y[i][0]]\n",
        "    return loss / m"
      ],
      "metadata": {
        "id": "VRs0dLDTjsLY"
      },
      "execution_count": 36,
      "outputs": []
    },
    {
      "cell_type": "markdown",
      "source": [
        "Integrating everything"
      ],
      "metadata": {
        "id": "ZIszFDyL-1sh"
      }
    },
    {
      "cell_type": "code",
      "source": [
        "def train(X, y, hidden_nodes, epochs=1000, lr=1):\n",
        "    \"\"\"\n",
        "    hidden_nodes: no. of nodes in hidden layer\n",
        "\n",
        "    should return the updated optimize weights.\n",
        "    \"\"\"\n",
        "    layers_dims = (784, 128, 10)\n",
        "\n",
        "    # initialize weights.\n",
        "    parameters = init_params(layers_dims)\n",
        "\n",
        "    for i in range(epochs):\n",
        "        # forward propagation\n",
        "        a2, cache = forward_propg(X, parameters)\n",
        "\n",
        "        # print cost at every 100 or so iterations\n",
        "        cost = cost_func(y, a2)\n",
        "        if i % 50 == 0 :\n",
        "          print(\"The cost after {} iteration is :\".format(i), cost)\n",
        "        \n",
        "        # backward propagation\n",
        "        parameters = backward_propg(parameters, X, y, cache,lr)\n",
        "    return parameters  \n"
      ],
      "metadata": {
        "id": "AGASNB0d-4Cl"
      },
      "execution_count": 37,
      "outputs": []
    },
    {
      "cell_type": "code",
      "source": [
        "def predict(X, updated_weights):\n",
        "    \"\"\"\n",
        "    returns the prediction in [0,9] for each element in X\n",
        "    \"\"\"\n",
        "    num_test = X.shape[0]\n",
        "    a2, cache = forward_propg(X, updated_weights)\n",
        "    max = a2.argmax(axis=1)\n",
        "    Ypred = np.zeros((num_test,1))\n",
        "    for i in range(num_test):\n",
        "      Ypred[i][0] = max[i]\n",
        "    return Ypred\n",
        "    "
      ],
      "metadata": {
        "id": "7s5V-xT1-63f"
      },
      "execution_count": 38,
      "outputs": []
    },
    {
      "cell_type": "code",
      "source": [
        "def accuracy(predictions, y):\n",
        "    \"\"\"\n",
        "    prints % accuracy\n",
        "    \"\"\"\n",
        "    print(\"accuracy :\", np.mean(y == predictions))"
      ],
      "metadata": {
        "id": "Ia98dU2N--PR"
      },
      "execution_count": 39,
      "outputs": []
    },
    {
      "cell_type": "code",
      "source": [
        "parameters = train(X_train, y_train, 128)\n",
        "Ypred = predict(X_train, parameters)\n",
        "print(\"Train cases\")\n",
        "accuracy(Ypred, y_train)\n",
        "print()\n",
        "Ypred = predict(X_test, parameters)\n",
        "print(\"Test cases\")\n",
        "accuracy(Ypred, y_test)\n",
        "\n",
        "#This piece was wriiten to just get the feel of how and what my neural network is \n",
        "#predicting.\n",
        "for i in range(36):\n",
        "  idx = random.randrange(0,y_test.size,1)\n",
        "  plt.subplot(6,6,i+1)\n",
        "  image = np.reshape(X_test[idx], (28,28))\n",
        "  drawing = plt.imshow(image, cmap = \"gray\")\n",
        "  plt.title(Ypred[idx][0])\n",
        "  drawing.axes.get_xaxis().set_visible(False)\n",
        "  drawing.axes.get_yaxis().set_visible(False)\n",
        "plt.subplots_adjust(left = 0.1, bottom = 0.1, right = 0.5, top = 0.9, wspace = 0.1, hspace = 0.4)\n",
        "plt.show()\n",
        "\n",
        "accuracy(Ypred, y_test)"
      ],
      "metadata": {
        "colab": {
          "base_uri": "https://localhost:8080/",
          "height": 743
        },
        "id": "wFzT8uYSJO8g",
        "outputId": "e302260d-d72a-40f1-93e4-ff2a10e3ad69"
      },
      "execution_count": 40,
      "outputs": [
        {
          "output_type": "stream",
          "name": "stdout",
          "text": [
            "The cost after 0 iteration is : 2.303475118856281\n",
            "The cost after 50 iteration is : 0.9616421899610855\n",
            "The cost after 100 iteration is : 0.5490377663625178\n",
            "The cost after 150 iteration is : 0.4331302985596207\n",
            "The cost after 200 iteration is : 0.3789282991124654\n",
            "The cost after 250 iteration is : 0.3461450537278004\n",
            "The cost after 300 iteration is : 0.323056245909422\n",
            "The cost after 350 iteration is : 0.3051566657122567\n",
            "The cost after 400 iteration is : 0.2904669380037447\n",
            "The cost after 450 iteration is : 0.2780021619545264\n",
            "The cost after 500 iteration is : 0.2670654524480094\n",
            "The cost after 550 iteration is : 0.25715357665055\n",
            "The cost after 600 iteration is : 0.24809149550228124\n",
            "The cost after 650 iteration is : 0.23975540149447933\n",
            "The cost after 700 iteration is : 0.231964235534091\n",
            "The cost after 750 iteration is : 0.22459337958527495\n",
            "The cost after 800 iteration is : 0.21764601263964542\n",
            "The cost after 850 iteration is : 0.21103159256758103\n",
            "The cost after 900 iteration is : 0.20473216568318992\n",
            "The cost after 950 iteration is : 0.1986982950449373\n",
            "Train cases\n",
            "accuracy : 0.9488333333333333\n",
            "\n",
            "Test cases\n",
            "accuracy : 0.9153703703703704\n"
          ]
        },
        {
          "output_type": "display_data",
          "data": {
            "text/plain": [
              "<Figure size 432x288 with 36 Axes>"
            ],
            "image/png": "[encoded data removed]"
          },
          "metadata": {
            "needs_background": "light"
          }
        },
        {
          "output_type": "stream",
          "name": "stdout",
          "text": [
            "accuracy : 0.9153703703703704\n"
          ]
        }
      ]
    },
    {
      "cell_type": "markdown",
      "source": [
        "Saving the file"
      ],
      "metadata": {
        "id": "z9xq8q_i_PuM"
      }
    },
    {
      "cell_type": "code",
      "source": [
        "import pickle\n",
        "import random\n",
        "from google.colab import files\n",
        "\n",
        "roll_num = \"210050082\" # enter ldap\n",
        "hidden_dim = 128 # replace with your own hidden dimension\n",
        "\n",
        "layer_dims = (784, 128, 10)\n",
        "parameters = init_params(layer_dims)\n",
        "model_dict = {\n",
        "    'z': hidden_dim, # hidden dimension of your model\n",
        "    'layer_0_wt': parameters[\"W1\"], # layer 0 weight (784, z)\n",
        "    'layer_0_bias':parameters[\"b1\"] , # layer 0 bias (z, 1)\n",
        "    'layer_1_wt': parameters[\"W2\"], # layer 1 weight (z, 10)\n",
        "    'layer_1_bias': parameters[\"b2\"] # layer 1 bias (10, 1)\n",
        "}\n",
        "\n",
        "assert model_dict['layer_0_wt'].shape == (784, hidden_dim)\n",
        "assert model_dict['layer_0_bias'].shape == (hidden_dim, 1)\n",
        "assert model_dict['layer_1_wt'].shape == (hidden_dim, 10)\n",
        "assert model_dict['layer_1_bias'].shape == (10, 1)\n",
        "\n",
        "with open(f'model_{roll_num}.pkl', 'wb') as f:\n",
        "    pickle.dump(model_dict, f)\n",
        "    files.download(f'model_{roll_num}.pkl') # download the file from the Colab session for submission"
      ],
      "metadata": {
        "colab": {
          "base_uri": "https://localhost:8080/",
          "height": 17
        },
        "id": "FkfhlLDJv442",
        "outputId": "b35a5340-8952-42c9-ff02-1aa9537ab919"
      },
      "execution_count": 41,
      "outputs": [
        {
          "output_type": "display_data",
          "data": {
            "text/plain": [
              "<IPython.core.display.Javascript object>"
            ],
            "application/javascript": [
              "\n",
              "    async function download(id, filename, size) {\n",
              "      if (!google.colab.kernel.accessAllowed) {\n",
              "        return;\n",
              "      }\n",
              "      const div = document.createElement('div');\n",
              "      const label = document.createElement('label');\n",
              "      label.textContent = `Downloading \"${filename}\": `;\n",
              "      div.appendChild(label);\n",
              "      const progress = document.createElement('progress');\n",
              "      progress.max = size;\n",
              "      div.appendChild(progress);\n",
              "      document.body.appendChild(div);\n",
              "\n",
              "      const buffers = [];\n",
              "      let downloaded = 0;\n",
              "\n",
              "      const channel = await google.colab.kernel.comms.open(id);\n",
              "      // Send a message to notify the kernel that we're ready.\n",
              "      channel.send({})\n",
              "\n",
              "      for await (const message of channel.messages) {\n",
              "        // Send a message to notify the kernel that we're ready.\n",
              "        channel.send({})\n",
              "        if (message.buffers) {\n",
              "          for (const buffer of message.buffers) {\n",
              "            buffers.push(buffer);\n",
              "            downloaded += buffer.byteLength;\n",
              "            progress.value = downloaded;\n",
              "          }\n",
              "        }\n",
              "      }\n",
              "      const blob = new Blob(buffers, {type: 'application/binary'});\n",
              "      const a = document.createElement('a');\n",
              "      a.href = window.URL.createObjectURL(blob);\n",
              "      a.download = filename;\n",
              "      div.appendChild(a);\n",
              "      a.click();\n",
              "      div.remove();\n",
              "    }\n",
              "  "
            ]
          },
          "metadata": {}
        },
        {
          "output_type": "display_data",
          "data": {
            "text/plain": [
              "<IPython.core.display.Javascript object>"
            ],
            "application/javascript": [
              "download(\"download_15b8cdcc-9a69-4602-8430-4ea9a3dfe355\", \"model_210050082.pkl\", 814526)"
            ]
          },
          "metadata": {}
        }
      ]
    }
  ]
}