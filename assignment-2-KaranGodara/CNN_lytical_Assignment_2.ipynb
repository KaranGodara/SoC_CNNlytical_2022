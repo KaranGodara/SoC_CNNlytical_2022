{
  "nbformat": 4,
  "nbformat_minor": 0,
  "metadata": {
    "colab": {
      "name": "CNN_lytical_Assignment_2.ipynb",
      "provenance": [],
      "collapsed_sections": []
    },
    "kernelspec": {
      "name": "python3",
      "display_name": "Python 3"
    },
    "language_info": {
      "name": "python"
    }
  },
  "cells": [
    {
      "cell_type": "markdown",
      "source": [
        "**Importing libraries here**"
      ],
      "metadata": {
        "id": "5jeDfwA9X7Zg"
      }
    },
    {
      "cell_type": "code",
      "source": [
        "import torch\n",
        "import torchvision\n",
        "import torch.nn.functional as F\n",
        "import matplotlib.pyplot as plt\n",
        "import torch.nn as nn\n",
        "import torch.optim as optim\n",
        "from torchvision import transforms, datasets\n",
        "\n",
        "import numpy as np\n",
        "import pickle\n",
        "from sklearn.model_selection import train_test_split\n",
        "import random\n",
        "from sklearn import preprocessing\n",
        "%matplotlib inline"
      ],
      "metadata": {
        "id": "c_RTMtBvmd-i"
      },
      "execution_count": 1,
      "outputs": []
    },
    {
      "cell_type": "markdown",
      "source": [
        "Different approach to loading the dataset"
      ],
      "metadata": {
        "id": "U5lpc6LoVocQ"
      }
    },
    {
      "cell_type": "code",
      "source": [
        "from google.colab import drive\n",
        "\n",
        "#drive already mounted\n",
        "drive.mount('/content/drive') \n",
        "\n",
        "DATA_PATH = \"/content/drive/MyDrive/cs231n/assignments/assignment2/train_data.pkl\"\n",
        "\n",
        "\n",
        "with open(DATA_PATH, 'rb') as f:\n",
        "    data = pickle.load(f)\n",
        "\n",
        "X = data['X']\n",
        "y = data['y']\n",
        "\n",
        "# normalise\n",
        "#X_norm = X - np.min(X, axis = 0, keepdims = True)\n",
        "#X_norm = X_norm / (np.max(X_norm, axis = 0, keepdims = True) + 1e-6)\n",
        "\n",
        "#new version\n",
        "X_norm = preprocessing.normalize(X)\n",
        "\n",
        "#split\n",
        "X_train, X_test, y_train, y_test = train_test_split(X_norm, y, stratify = y, test_size = 0.9) "
      ],
      "metadata": {
        "colab": {
          "base_uri": "https://localhost:8080/"
        },
        "id": "vSSj-9W_Vnoc",
        "outputId": "4944b2d7-f5f0-4b0c-f3dc-cbad879358ee"
      },
      "execution_count": 2,
      "outputs": [
        {
          "output_type": "stream",
          "name": "stdout",
          "text": [
            "Mounted at /content/drive\n"
          ]
        }
      ]
    },
    {
      "cell_type": "code",
      "source": [
        "#displaying grid\n",
        "for i in range(16):\n",
        "  idx = random.randrange(0,60000,1)\n",
        "  plt.subplot(4,4,i+1)\n",
        "  image = np.reshape(X[idx], (28,28))\n",
        "  drawing = plt.imshow(image, cmap = \"gray\")\n",
        "  plt.title(y[idx][0])\n",
        "  drawing.axes.get_xaxis().set_visible(False)\n",
        "  drawing.axes.get_yaxis().set_visible(False)\n",
        "plt.subplots_adjust(left = 0.1, bottom = 0.1, right = 0.5, top = 0.9, wspace = 0.1, hspace = 0.4)\n",
        "plt.show()"
      ],
      "metadata": {
        "colab": {
          "base_uri": "https://localhost:8080/",
          "height": 277
        },
        "id": "t104iV9Yd4vU",
        "outputId": "620f6bc9-f3a1-4988-f1a8-6e67997d5706"
      },
      "execution_count": 3,
      "outputs": [
        {
          "output_type": "display_data",
          "data": {
            "text/plain": [
              "<Figure size 432x288 with 16 Axes>"
            ],
            "image/png": "[encoded data removed]"
          },
          "metadata": {
            "needs_background": "light"
          }
        }
      ]
    },
    {
      "cell_type": "markdown",
      "source": [
        "**Creating a Dataset Class**"
      ],
      "metadata": {
        "id": "mLxaQ5beWoAE"
      }
    },
    {
      "cell_type": "code",
      "source": [
        "# define your dataset class\n",
        "\n",
        "class MNIST_Dataset(torch.utils.data.Dataset):\n",
        "  def __init__(self, X, y, transform = False):\n",
        "        'Initialization'\n",
        "        #X for images, y for labels\n",
        "        self.X = X\n",
        "        self.y = y\n",
        "        self.transform = transform\n",
        "\n",
        "  def __len__(self):\n",
        "        'Denotes the total number of samples'\n",
        "        return len(self.X)\n",
        "\n",
        "  def __getitem__(self, index):\n",
        "        'Generates one sample of data'\n",
        "        # Select sample\n",
        "        image = self.X[index]\n",
        "        label = self.y[index]\n",
        "        #X = self.transform(image)\n",
        "        return image, label\n",
        "\n",
        "train_dataset = MNIST_Dataset(X_train, y_train)\n",
        "#test_dataset = MNIST_Dataset(X_test, y_test)\n",
        "\n",
        "#print('The shape of tensor for 50th image in train dataset: ',train_dataset[49][0].shape)\n",
        "#print('The label for 50th image in train dataset: ',train_dataset[49][1])\n",
        "\n",
        "train_loader = torch.utils.data.DataLoader(train_dataset, batch_size=64, shuffle = True)\n",
        "#test_loader = torch.utils.data.DataLoader(test_dataset, batch_size=64, shuffle = False)\n",
        "\n",
        "\n",
        "#Idk why but as of now it is printing only of the following print statements :(\n",
        "\n",
        "#batch of image tensor\n",
        "#print(next(iter(train_loader))[0].size())\n",
        "\n",
        "#batch of the corresponding labels\n",
        "print(next(iter(train_loader))[1].size())\n"
      ],
      "metadata": {
        "colab": {
          "base_uri": "https://localhost:8080/"
        },
        "id": "AFH5J1JgWwK2",
        "outputId": "1d9e8776-214d-4814-d0d3-a89df3b5bec2"
      },
      "execution_count": 4,
      "outputs": [
        {
          "output_type": "stream",
          "name": "stdout",
          "text": [
            "torch.Size([64, 1])\n"
          ]
        }
      ]
    },
    {
      "cell_type": "markdown",
      "source": [
        "**nn.Module for your model**\n",
        "\n",
        "Defining and Initializing The Neural Network"
      ],
      "metadata": {
        "id": "hyOdxisDWy0b"
      }
    },
    {
      "cell_type": "code",
      "source": [
        "# define a child class of nn.Module for your model\n",
        "# specify the architecture here itself\n",
        "\n",
        "class NeuralNetwork(nn.Module):\n",
        "    def __init__(self):\n",
        "        super().__init__()\n",
        "        #defining intermediate weights and biases \n",
        "        self.fc1 = nn.Linear(784, 256)\n",
        "        self.bn1 = nn.BatchNorm1d(256)\n",
        "\n",
        "        self.fc2 = nn.Linear(256, 64)\n",
        "        self.bn2 = nn.BatchNorm1d(64)\n",
        "\n",
        "        self.fc3 = nn.Linear(64, 32)\n",
        "        self.bn3 = nn.BatchNorm1d(32)\n",
        "\n",
        "        self.fc4 = nn.Linear(32, 10)\n",
        "\n",
        "    def forward(self, x):\n",
        "        x = F.relu(self.bn1(self.fc1(x)))\n",
        "        x = F.relu(self.bn2(self.fc2(x)))\n",
        "        x = F.relu(self.bn3(self.fc3(x)))\n",
        "        x = self.fc4(x)\n",
        "        return F.log_softmax(x, dim=1) #inplace operator\n",
        "\n",
        "#model = NeuralNetwork()"
      ],
      "metadata": {
        "id": "hBrwlHuQW2ZD"
      },
      "execution_count": 5,
      "outputs": []
    },
    {
      "cell_type": "markdown",
      "source": [
        "**Training**"
      ],
      "metadata": {
        "id": "WUFXOErGpm5Y"
      }
    },
    {
      "cell_type": "code",
      "source": [
        "#removed criterion from train paramters\n",
        "def train(model, optimizer, train_loader, display_step=None):\n",
        "  EPOCHS = 30\n",
        "  for epoch in range(EPOCHS):\n",
        "    for data in train_loader:\n",
        "        X, y = data\n",
        "\n",
        "        #to reshape the y to [64] from [64,1]\n",
        "        y = torch.reshape(y, (-1,))\n",
        "\n",
        "        #print(X.shape) : torch.Size([64, 1, 28, 28])\n",
        "        \n",
        "        #: torch.Size([64, 1, 28, 28])\n",
        "\n",
        "        #removing stored value of previous grad from buffer\n",
        "        model.zero_grad()\n",
        "\n",
        "        #forward-prop step\n",
        "        #print(X.view(-1, 28 * 28).shape) : torch.Size([64, 784])\n",
        "        output = model(X.view(-1, 28 * 28).float())\n",
        "        #print(output.shape) : torch.Size([64, 10])\n",
        "\n",
        "        #assert output.shape == y.shape\n",
        "        #negetive log likelihood loss\n",
        "        loss = F.nll_loss(output, y)\n",
        "        #loss = criterion(output, y)\n",
        "\n",
        "        #back-prop step\n",
        "        loss.backward()\n",
        "\n",
        "        #update step\n",
        "        optimizer.step()\n",
        "\n",
        "    #training set loss\n",
        "    print(\"Cost function after epoch \", epoch, \"is :\", loss.item())\n",
        "\n",
        "#optimizer = optim.Adam(model.parameters(), lr=0.001)\n"
      ],
      "metadata": {
        "id": "6eFc2hYAnUq7"
      },
      "execution_count": 6,
      "outputs": []
    },
    {
      "cell_type": "markdown",
      "source": [
        "**Initialize weights**"
      ],
      "metadata": {
        "id": "8KeZ1k7XXW8I"
      }
    },
    {
      "cell_type": "code",
      "source": [
        "def init_weights():\n",
        "  #On internet articles were saying pyTorch automatically initializes weights for us\n",
        "  #and those work pretty well, so have postponed the self-initialisation for niow\n",
        "  pass"
      ],
      "metadata": {
        "id": "9hkkfKznXe6i"
      },
      "execution_count": 7,
      "outputs": []
    },
    {
      "cell_type": "markdown",
      "source": [
        "**Prediction & Accuracy**"
      ],
      "metadata": {
        "id": "4H15HadFXjAy"
      }
    },
    {
      "cell_type": "code",
      "source": [
        "def predict(model, X_test):\n",
        "  X_test_tensor = torch.from_numpy(X_test)\n",
        "  #print(X_test_tensor.size())\n",
        "  output = model(X_test_tensor.float())\n",
        "  #output, inds = torch.max(output,dim=1) \n",
        "  return output\n",
        "\n",
        "#predict(model, X_test)"
      ],
      "metadata": {
        "id": "sE8LWXFUXnd7"
      },
      "execution_count": 8,
      "outputs": []
    },
    {
      "cell_type": "code",
      "source": [
        "def accuracy(pred, labels):\n",
        "  #labels = torch.from_numpy(labels)\n",
        "  correct = 0\n",
        "  total = labels.size\n",
        "  #output = model(data_input.view(-1, 784))\n",
        "  for idx, i in enumerate(pred):\n",
        "    if torch.argmax(i).item() == int(labels[idx]):\n",
        "      correct += 1\n",
        "  print('Accuracy: %f %%' % (100.0 * correct / float(total)))\n",
        "\n",
        "#print(y_train.shape)"
      ],
      "metadata": {
        "id": "rr03qzt4Xp_5"
      },
      "execution_count": 22,
      "outputs": []
    },
    {
      "cell_type": "markdown",
      "source": [
        "**Running the main loop**"
      ],
      "metadata": {
        "id": "kij3HQaWGlHp"
      }
    },
    {
      "cell_type": "code",
      "source": [
        "model = NeuralNetwork()\n",
        "optimizer = optim.Adam(model.parameters(), lr=0.001)\n",
        "train(model, optimizer, train_loader)\n",
        "Y_pred = predict(model, X_test)\n",
        "accuracy(Y_pred, y_test)"
      ],
      "metadata": {
        "colab": {
          "base_uri": "https://localhost:8080/"
        },
        "id": "Drhlgl7nGa6R",
        "outputId": "3ed9cf86-d61b-46f8-e21b-813bdc3883b5"
      },
      "execution_count": 25,
      "outputs": [
        {
          "output_type": "stream",
          "name": "stdout",
          "text": [
            "Cost function after epoch  0 is : 0.5939752459526062\n",
            "Cost function after epoch  1 is : 0.3043893277645111\n",
            "Cost function after epoch  2 is : 0.14999136328697205\n",
            "Cost function after epoch  3 is : 0.10844426602125168\n",
            "Cost function after epoch  4 is : 0.07393784075975418\n",
            "Cost function after epoch  5 is : 0.059275757521390915\n",
            "Cost function after epoch  6 is : 0.026441188529133797\n",
            "Cost function after epoch  7 is : 0.011543355882167816\n",
            "Cost function after epoch  8 is : 0.009164441376924515\n",
            "Cost function after epoch  9 is : 0.01541982963681221\n",
            "Cost function after epoch  10 is : 0.017533324658870697\n",
            "Cost function after epoch  11 is : 0.0684811919927597\n",
            "Cost function after epoch  12 is : 0.020339660346508026\n",
            "Cost function after epoch  13 is : 0.009503056295216084\n",
            "Cost function after epoch  14 is : 0.037956539541482925\n",
            "Cost function after epoch  15 is : 0.016639040783047676\n",
            "Cost function after epoch  16 is : 0.006047563627362251\n",
            "Cost function after epoch  17 is : 0.04535253718495369\n",
            "Cost function after epoch  18 is : 0.00408831425011158\n",
            "Cost function after epoch  19 is : 0.0016944105736911297\n",
            "Cost function after epoch  20 is : 0.01618671603500843\n",
            "Cost function after epoch  21 is : 0.0013338029384613037\n",
            "Cost function after epoch  22 is : 0.010850249789655209\n",
            "Cost function after epoch  23 is : 0.003659941954538226\n",
            "Cost function after epoch  24 is : 0.003687378717586398\n",
            "Cost function after epoch  25 is : 0.0016952474834397435\n",
            "Cost function after epoch  26 is : 0.09319740533828735\n",
            "Cost function after epoch  27 is : 0.0018038734560832381\n",
            "Cost function after epoch  28 is : 0.0010879135224968195\n",
            "Cost function after epoch  29 is : 0.0027720595244318247\n",
            "Accuracy: 96.061111 %\n"
          ]
        }
      ]
    },
    {
      "cell_type": "markdown",
      "source": [
        "Playing with The Model"
      ],
      "metadata": {
        "id": "YwTUijt_qpdc"
      }
    },
    {
      "cell_type": "code",
      "source": [
        "# print(type(X_test[1]))\n",
        "# print(X_test[1].shape)\n",
        "# plt.imshow(X_test[1].reshape([28,28]))\n",
        "# plt.title(\"Test Image\")\n",
        "# plt.axis('off')\n",
        "# plt.show()\n",
        "\n",
        "def val(m, b):\n",
        "  for idx, i in enumerate(b):\n",
        "      if idx == m:\n",
        "        return torch.argmax(i).item()\n",
        "\n",
        "Y_pred = predict(model, X_test)\n",
        "for i in range(36):\n",
        "  idx = random.randrange(0,y_test.size,1)\n",
        "  plt.subplot(6,6,i+1)\n",
        "  image = X_test[idx].reshape([28,28])\n",
        "  drawing = plt.imshow(image, cmap = \"gray\")\n",
        "  plt.title(val(idx, Y_pred))\n",
        "  drawing.axes.get_xaxis().set_visible(False)\n",
        "  drawing.axes.get_yaxis().set_visible(False)\n",
        "plt.subplots_adjust(left = 0.1, bottom = 0.1, right = 0.5, top = 0.95, wspace = 0.1, hspace = 0.4)\n",
        "plt.show()"
      ],
      "metadata": {
        "colab": {
          "base_uri": "https://localhost:8080/",
          "height": 291
        },
        "id": "e3fk8PhaqpoX",
        "outputId": "1ae1e33a-8498-48f6-e780-49b419427c87"
      },
      "execution_count": 26,
      "outputs": [
        {
          "output_type": "display_data",
          "data": {
            "text/plain": [
              "<Figure size 432x288 with 36 Axes>"
            ],
            "image/png": "[encoded data removed]"
          },
          "metadata": {
            "needs_background": "light"
          }
        }
      ]
    },
    {
      "cell_type": "markdown",
      "source": [
        "Submission\n",
        "\n",
        "To submit your solution, you will need to make a file with name model.py containing imports necessary to write the model class and the model class itself. It shouldn't do anything else when run. Other than this, save the trained model in a file named ass_2.pt. When you are done with the assignment, commit the updated notebook, the model.py class file and the ass_2.pt model-weights file to the repository."
      ],
      "metadata": {
        "id": "O8Vjx-XaYF6j"
      }
    },
    {
      "cell_type": "code",
      "source": [
        "from google.colab import files\n",
        "torch.save(model, 'ass_2.pt')\n",
        "files.download('ass_2.pt') # download the file from the Colab session for submission"
      ],
      "metadata": {
        "colab": {
          "base_uri": "https://localhost:8080/",
          "height": 17
        },
        "id": "G-Npxs8FYG2d",
        "outputId": "7ac7cdec-e7aa-471d-a4ec-7e7d7e8018f1"
      },
      "execution_count": 12,
      "outputs": [
        {
          "output_type": "display_data",
          "data": {
            "text/plain": [
              "<IPython.core.display.Javascript object>"
            ],
            "application/javascript": [
              "\n",
              "    async function download(id, filename, size) {\n",
              "      if (!google.colab.kernel.accessAllowed) {\n",
              "        return;\n",
              "      }\n",
              "      const div = document.createElement('div');\n",
              "      const label = document.createElement('label');\n",
              "      label.textContent = `Downloading \"${filename}\": `;\n",
              "      div.appendChild(label);\n",
              "      const progress = document.createElement('progress');\n",
              "      progress.max = size;\n",
              "      div.appendChild(progress);\n",
              "      document.body.appendChild(div);\n",
              "\n",
              "      const buffers = [];\n",
              "      let downloaded = 0;\n",
              "\n",
              "      const channel = await google.colab.kernel.comms.open(id);\n",
              "      // Send a message to notify the kernel that we're ready.\n",
              "      channel.send({})\n",
              "\n",
              "      for await (const message of channel.messages) {\n",
              "        // Send a message to notify the kernel that we're ready.\n",
              "        channel.send({})\n",
              "        if (message.buffers) {\n",
              "          for (const buffer of message.buffers) {\n",
              "            buffers.push(buffer);\n",
              "            downloaded += buffer.byteLength;\n",
              "            progress.value = downloaded;\n",
              "          }\n",
              "        }\n",
              "      }\n",
              "      const blob = new Blob(buffers, {type: 'application/binary'});\n",
              "      const a = document.createElement('a');\n",
              "      a.href = window.URL.createObjectURL(blob);\n",
              "      a.download = filename;\n",
              "      div.appendChild(a);\n",
              "      a.click();\n",
              "      div.remove();\n",
              "    }\n",
              "  "
            ]
          },
          "metadata": {}
        },
        {
          "output_type": "display_data",
          "data": {
            "text/plain": [
              "<IPython.core.display.Javascript object>"
            ],
            "application/javascript": [
              "download(\"download_5f7ef655-bcae-4949-a046-0e57703240f7\", \"ass_2.pt\", 892512)"
            ]
          },
          "metadata": {}
        }
      ]
    },
    {
      "cell_type": "markdown",
      "source": [
        "***Code ends here! After that its just some different ideas I was trying***"
      ],
      "metadata": {
        "id": "bq89LOHZXfRx"
      }
    },
    {
      "cell_type": "markdown",
      "source": [
        "**Loading and Transforming The Data** "
      ],
      "metadata": {
        "id": "dgg96b84mlPV"
      }
    },
    {
      "cell_type": "code",
      "source": [
        "# train = datasets.MNIST(\"\", train=True, download=True,\n",
        "#                       transform = transforms.Compose([transforms.ToTensor()]))\n",
        "# test = datasets.MNIST(\"\", train=False, download=True,\n",
        "#                       transform = transforms.Compose([transforms.ToTensor()]))\n",
        "# #print(\"train : \", list(train.shape))\n",
        "# #print(\"test : \", test.shape)\n",
        "# print(type(train))\n",
        "# print(len(train))\n",
        "# print(len(test))\n",
        "\n",
        "# trainset = torch.utils.data.DataLoader(train, batch_size=64, shuffle=True)\n",
        "# testset = torch.utils.data.DataLoader(test, batch_size=64, shuffle=True)\n",
        "\n",
        "# print(type(trainset))\n",
        "# print(len(trainset))\n",
        "\n",
        "# #print(\"trainset shape : \", list(train.shape))\n",
        "# #print(\"testset shape : \", test.shape )\n",
        "\n",
        "# #AttributeError: 'MNIST' object has no attribute 'shape'"
      ],
      "metadata": {
        "id": "xfRZQrV-mp7a"
      },
      "execution_count": 13,
      "outputs": []
    },
    {
      "cell_type": "markdown",
      "source": [
        "**Validating The Training**"
      ],
      "metadata": {
        "id": "UmBJ3ucWqc2U"
      }
    },
    {
      "cell_type": "code",
      "source": [
        "# print(model.parameters())"
      ],
      "metadata": {
        "id": "8m6OZ44RptjJ"
      },
      "execution_count": 14,
      "outputs": []
    },
    {
      "cell_type": "markdown",
      "source": [
        ""
      ],
      "metadata": {
        "id": "fjey1XSJVEVq"
      }
    },
    {
      "cell_type": "code",
      "source": [
        "# parameters = train(X_train, y_train, 128)\n",
        "# Ypred = predict(X_train, parameters)\n",
        "\n",
        "# print(\"Train cases\", end = \" \")\n",
        "# accuracy(Ypred, y_train)\n",
        "# print()\n",
        "\n",
        "# Ypred = predict(X_test, parameters)\n",
        "# #This piece was wriiten to just get the feel of how and what my neural network is \n",
        "# #predicting.\n",
        "\n",
        "# for i in range(36):\n",
        "#   idx = random.randrange(0,y_test.size,1)\n",
        "#   plt.subplot(6,6,i+1)\n",
        "#   image = np.reshape(X_test[idx], (28,28))\n",
        "#   drawing = plt.imshow(image, cmap = \"gray\")\n",
        "#   plt.title(Ypred[idx][0])\n",
        "#   drawing.axes.get_xaxis().set_visible(False)\n",
        "#   drawing.axes.get_yaxis().set_visible(False)\n",
        "# plt.subplots_adjust(left = 0.1, bottom = 0.1, right = 0.5, top = 0.9, wspace = 0.1, hspace = 0.4)\n",
        "# plt.show()\n",
        "\n",
        "# accuracy(Ypred, y_test)"
      ],
      "metadata": {
        "id": "_4cDLeYWVVkd"
      },
      "execution_count": 15,
      "outputs": []
    },
    {
      "cell_type": "code",
      "source": [
        "# # With Learnable Parameters\n",
        "# m = nn.BatchNorm1d(100)\n",
        "# # Without Learnable Parameters\n",
        "# m = nn.BatchNorm1d(100, affine=False)\n",
        "# input = torch.randn(20, 100)\n",
        "# print(input, \"\\n\")\n",
        "# output = m(input)\n",
        "# print(output)"
      ],
      "metadata": {
        "id": "148mkFFx18nq"
      },
      "execution_count": 16,
      "outputs": []
    },
    {
      "cell_type": "markdown",
      "source": [
        "Check if it got saved right!"
      ],
      "metadata": {
        "id": "pMWWR3xMYLFA"
      }
    },
    {
      "cell_type": "code",
      "source": [
        "# load the model, use predict function"
      ],
      "metadata": {
        "id": "28_ESlf1YM7h"
      },
      "execution_count": 17,
      "outputs": []
    },
    {
      "cell_type": "code",
      "source": [
        "# a = torch.tensor([1,2,3])\n",
        "# print(a.shape)\n",
        "# print(y_test.size)"
      ],
      "metadata": {
        "id": "3NgJFUzL-TpJ"
      },
      "execution_count": 18,
      "outputs": []
    }
  ]
}